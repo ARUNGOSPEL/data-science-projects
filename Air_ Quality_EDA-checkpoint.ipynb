{
 "cells": [
  {
   "cell_type": "markdown",
   "id": "87cc121e",
   "metadata": {},
   "source": [
    "## EDA OF AIR QUALITY "
   ]
  },
  {
   "cell_type": "code",
   "execution_count": 78,
   "id": "dddb9f3f",
   "metadata": {},
   "outputs": [],
   "source": [
    "import pandas as pd\n",
    "import numpy as np\n",
    "import matplotlib.pyplot as plt\n",
    "import seaborn as sns"
   ]
  },
  {
   "cell_type": "code",
   "execution_count": 79,
   "id": "cd820775",
   "metadata": {},
   "outputs": [
    {
     "data": {
      "text/plain": [
       "'D:\\\\CS50\\\\projects data set\\\\air_quality_dataset'"
      ]
     },
     "execution_count": 79,
     "metadata": {},
     "output_type": "execute_result"
    }
   ],
   "source": [
    "import os\n",
    "os.getcwd()"
   ]
  },
  {
   "cell_type": "code",
   "execution_count": 80,
   "id": "c5f05118",
   "metadata": {},
   "outputs": [],
   "source": [
    "os.chdir('D:/CS50/projects data set/air_quality_dataset')"
   ]
  },
  {
   "cell_type": "code",
   "execution_count": 81,
   "id": "54c2b456",
   "metadata": {},
   "outputs": [
    {
     "data": {
      "text/plain": [
       "'D:\\\\CS50\\\\projects data set\\\\air_quality_dataset'"
      ]
     },
     "execution_count": 81,
     "metadata": {},
     "output_type": "execute_result"
    }
   ],
   "source": [
    "os.getcwd()"
   ]
  },
  {
   "cell_type": "markdown",
   "id": "5d63a3e3",
   "metadata": {},
   "source": [
    "## FROM GOOGLE\n",
    "\n",
    "#particulate matters (PM) lesser than 2.5 are considered to be safer.\n",
    "\n",
    "#whereas above 2.5 are considered to be non safer (polluted air)\n",
    "\n",
    "#PM --> particulate matters ---> particulates present in the air for longer time\n",
    "\n",
    "\n",
    "AQI       Remark       \tPossible Health Impacts\n",
    "\n",
    "0-50\t  Good\t             Minimal impact\n",
    "51-100\t  Satisfactory\t     Minor breathing discomfort to sensitive people\n",
    "101-200\t  Moderate\t         Breathing discomfort to the people with lungs, asthma and heart diseases\n",
    "201-300\t  Poor\t             Breathing discomfort to most people on prolonged exposure\n"
   ]
  },
  {
   "cell_type": "code",
   "execution_count": 82,
   "id": "2941108b",
   "metadata": {},
   "outputs": [
    {
     "data": {
      "text/html": [
       "<div>\n",
       "<style scoped>\n",
       "    .dataframe tbody tr th:only-of-type {\n",
       "        vertical-align: middle;\n",
       "    }\n",
       "\n",
       "    .dataframe tbody tr th {\n",
       "        vertical-align: top;\n",
       "    }\n",
       "\n",
       "    .dataframe thead th {\n",
       "        text-align: right;\n",
       "    }\n",
       "</style>\n",
       "<table border=\"1\" class=\"dataframe\">\n",
       "  <thead>\n",
       "    <tr style=\"text-align: right;\">\n",
       "      <th></th>\n",
       "      <th>Timestamp</th>\n",
       "      <th>PM2.5</th>\n",
       "    </tr>\n",
       "  </thead>\n",
       "  <tbody>\n",
       "    <tr>\n",
       "      <th>0</th>\n",
       "      <td>01-01-2018 00:00</td>\n",
       "      <td>90.19</td>\n",
       "    </tr>\n",
       "    <tr>\n",
       "      <th>1</th>\n",
       "      <td>01-01-2018 01:00</td>\n",
       "      <td>86.98</td>\n",
       "    </tr>\n",
       "    <tr>\n",
       "      <th>2</th>\n",
       "      <td>01-01-2018 02:00</td>\n",
       "      <td>86.06</td>\n",
       "    </tr>\n",
       "    <tr>\n",
       "      <th>3</th>\n",
       "      <td>01-01-2018 03:00</td>\n",
       "      <td>94.04</td>\n",
       "    </tr>\n",
       "    <tr>\n",
       "      <th>4</th>\n",
       "      <td>01-01-2018 04:00</td>\n",
       "      <td>108.78</td>\n",
       "    </tr>\n",
       "  </tbody>\n",
       "</table>\n",
       "</div>"
      ],
      "text/plain": [
       "          Timestamp   PM2.5\n",
       "0  01-01-2018 00:00   90.19\n",
       "1  01-01-2018 01:00   86.98\n",
       "2  01-01-2018 02:00   86.06\n",
       "3  01-01-2018 03:00   94.04\n",
       "4  01-01-2018 04:00  108.78"
      ]
     },
     "execution_count": 82,
     "metadata": {},
     "output_type": "execute_result"
    }
   ],
   "source": [
    "df = pd.read_csv('D:\\\\CS50\\\\projects data set\\\\air_quality_dataset\\\\air_quality.csv')\n",
    "df.head()"
   ]
  },
  {
   "cell_type": "code",
   "execution_count": 83,
   "id": "fbcb85b9",
   "metadata": {},
   "outputs": [
    {
     "name": "stdout",
     "output_type": "stream",
     "text": [
      "<class 'pandas.core.frame.DataFrame'>\n",
      "RangeIndex: 31861 entries, 0 to 31860\n",
      "Data columns (total 2 columns):\n",
      " #   Column     Non-Null Count  Dtype  \n",
      "---  ------     --------------  -----  \n",
      " 0   Timestamp  31861 non-null  object \n",
      " 1   PM2.5      31861 non-null  float64\n",
      "dtypes: float64(1), object(1)\n",
      "memory usage: 498.0+ KB\n"
     ]
    }
   ],
   "source": [
    "df.info()"
   ]
  },
  {
   "cell_type": "code",
   "execution_count": 84,
   "id": "74906f56",
   "metadata": {},
   "outputs": [
    {
     "data": {
      "text/plain": [
       "Timestamp    0\n",
       "PM2.5        0\n",
       "dtype: int64"
      ]
     },
     "execution_count": 84,
     "metadata": {},
     "output_type": "execute_result"
    }
   ],
   "source": [
    "df.isnull().sum()"
   ]
  },
  {
   "cell_type": "code",
   "execution_count": 85,
   "id": "f1e33026",
   "metadata": {},
   "outputs": [],
   "source": [
    "# NO NULL VALUES FOUND\n",
    "# convert the datatype into timestamp format"
   ]
  },
  {
   "cell_type": "code",
   "execution_count": 86,
   "id": "bce4c060",
   "metadata": {},
   "outputs": [
    {
     "data": {
      "text/plain": [
       "Index(['Timestamp', 'PM2.5', 'datetime'], dtype='object')"
      ]
     },
     "execution_count": 86,
     "metadata": {},
     "output_type": "execute_result"
    }
   ],
   "source": [
    "df['datetime']= pd.to_datetime(df['Timestamp'])\n",
    "df.columns"
   ]
  },
  {
   "cell_type": "code",
   "execution_count": 87,
   "id": "ff8015af",
   "metadata": {},
   "outputs": [
    {
     "data": {
      "text/html": [
       "<div>\n",
       "<style scoped>\n",
       "    .dataframe tbody tr th:only-of-type {\n",
       "        vertical-align: middle;\n",
       "    }\n",
       "\n",
       "    .dataframe tbody tr th {\n",
       "        vertical-align: top;\n",
       "    }\n",
       "\n",
       "    .dataframe thead th {\n",
       "        text-align: right;\n",
       "    }\n",
       "</style>\n",
       "<table border=\"1\" class=\"dataframe\">\n",
       "  <thead>\n",
       "    <tr style=\"text-align: right;\">\n",
       "      <th></th>\n",
       "      <th>datetime</th>\n",
       "      <th>PM2.5</th>\n",
       "    </tr>\n",
       "  </thead>\n",
       "  <tbody>\n",
       "    <tr>\n",
       "      <th>0</th>\n",
       "      <td>2018-01-01 00:00:00</td>\n",
       "      <td>90.19</td>\n",
       "    </tr>\n",
       "    <tr>\n",
       "      <th>1</th>\n",
       "      <td>2018-01-01 01:00:00</td>\n",
       "      <td>86.98</td>\n",
       "    </tr>\n",
       "    <tr>\n",
       "      <th>2</th>\n",
       "      <td>2018-01-01 02:00:00</td>\n",
       "      <td>86.06</td>\n",
       "    </tr>\n",
       "    <tr>\n",
       "      <th>3</th>\n",
       "      <td>2018-01-01 03:00:00</td>\n",
       "      <td>94.04</td>\n",
       "    </tr>\n",
       "    <tr>\n",
       "      <th>4</th>\n",
       "      <td>2018-01-01 04:00:00</td>\n",
       "      <td>108.78</td>\n",
       "    </tr>\n",
       "    <tr>\n",
       "      <th>...</th>\n",
       "      <td>...</td>\n",
       "      <td>...</td>\n",
       "    </tr>\n",
       "    <tr>\n",
       "      <th>31856</th>\n",
       "      <td>2021-12-31 19:00:00</td>\n",
       "      <td>72.25</td>\n",
       "    </tr>\n",
       "    <tr>\n",
       "      <th>31857</th>\n",
       "      <td>2021-12-31 20:00:00</td>\n",
       "      <td>71.56</td>\n",
       "    </tr>\n",
       "    <tr>\n",
       "      <th>31858</th>\n",
       "      <td>2021-12-31 21:00:00</td>\n",
       "      <td>70.27</td>\n",
       "    </tr>\n",
       "    <tr>\n",
       "      <th>31859</th>\n",
       "      <td>2021-12-31 22:00:00</td>\n",
       "      <td>66.78</td>\n",
       "    </tr>\n",
       "    <tr>\n",
       "      <th>31860</th>\n",
       "      <td>2021-12-31 23:00:00</td>\n",
       "      <td>61.29</td>\n",
       "    </tr>\n",
       "  </tbody>\n",
       "</table>\n",
       "<p>31861 rows × 2 columns</p>\n",
       "</div>"
      ],
      "text/plain": [
       "                 datetime   PM2.5\n",
       "0     2018-01-01 00:00:00   90.19\n",
       "1     2018-01-01 01:00:00   86.98\n",
       "2     2018-01-01 02:00:00   86.06\n",
       "3     2018-01-01 03:00:00   94.04\n",
       "4     2018-01-01 04:00:00  108.78\n",
       "...                   ...     ...\n",
       "31856 2021-12-31 19:00:00   72.25\n",
       "31857 2021-12-31 20:00:00   71.56\n",
       "31858 2021-12-31 21:00:00   70.27\n",
       "31859 2021-12-31 22:00:00   66.78\n",
       "31860 2021-12-31 23:00:00   61.29\n",
       "\n",
       "[31861 rows x 2 columns]"
      ]
     },
     "execution_count": 87,
     "metadata": {},
     "output_type": "execute_result"
    }
   ],
   "source": [
    "# drop the timestamp column\n",
    "\n",
    "df.drop(['Timestamp'],axis=1,inplace=True)\n",
    "df=df[['datetime','PM2.5']]\n",
    "df"
   ]
  },
  {
   "cell_type": "markdown",
   "id": "538f6e50",
   "metadata": {},
   "source": [
    "## Question 1\n",
    "\n",
    "1.)  show the year-wise AVERAGE pollution with a line chart"
   ]
  },
  {
   "cell_type": "code",
   "execution_count": 88,
   "id": "f166afc4",
   "metadata": {},
   "outputs": [],
   "source": [
    "df['year'] = df.datetime.dt.year "
   ]
  },
  {
   "cell_type": "code",
   "execution_count": 89,
   "id": "0eeca9a3",
   "metadata": {},
   "outputs": [
    {
     "data": {
      "text/plain": [
       "year\n",
       "2018    54.468449\n",
       "2019    49.511273\n",
       "2020    42.386302\n",
       "2021    44.850633\n",
       "Name: PM2.5, dtype: float64"
      ]
     },
     "execution_count": 89,
     "metadata": {},
     "output_type": "execute_result"
    }
   ],
   "source": [
    "# average pollution yearwise\n",
    "\n",
    "year_avg = df.groupby('year')['PM2.5'].mean()\n",
    "year_avg"
   ]
  },
  {
   "cell_type": "code",
   "execution_count": 90,
   "id": "2393d2af",
   "metadata": {},
   "outputs": [
    {
     "data": {
      "text/plain": [
       "<AxesSubplot:xlabel='year'>"
      ]
     },
     "execution_count": 90,
     "metadata": {},
     "output_type": "execute_result"
    },
    {
     "data": {
      "image/png": "[encoded data removed]",
      "text/plain": [
       "<Figure size 864x288 with 1 Axes>"
      ]
     },
     "metadata": {
      "needs_background": "light"
     },
     "output_type": "display_data"
    }
   ],
   "source": [
    "year_avg.plot(kind= 'bar',figsize = (12,4), color ='black')"
   ]
  },
  {
   "cell_type": "code",
   "execution_count": 91,
   "id": "3e8642c2",
   "metadata": {},
   "outputs": [
    {
     "data": {
      "text/plain": [
       "<AxesSubplot:xlabel='year'>"
      ]
     },
     "execution_count": 91,
     "metadata": {},
     "output_type": "execute_result"
    },
    {
     "data": {
      "image/png": "[encoded data removed]",
      "text/plain": [
       "<Figure size 864x288 with 1 Axes>"
      ]
     },
     "metadata": {
      "needs_background": "light"
     },
     "output_type": "display_data"
    }
   ],
   "source": [
    "year_avg.plot(kind= 'line',figsize = (12,4))"
   ]
  },
  {
   "cell_type": "markdown",
   "id": "f0509b80",
   "metadata": {},
   "source": [
    "## OBSERVATION \n",
    "\n",
    "**Comparatively in 2020 the average AIR POLLUTION is lesser (might be because of covid)"
   ]
  },
  {
   "cell_type": "markdown",
   "id": "67d2dbea",
   "metadata": {},
   "source": [
    "## Question \n",
    "\n",
    "2.)  Draw the area plot showing the average pollution month wise"
   ]
  },
  {
   "cell_type": "code",
   "execution_count": 92,
   "id": "94104b7d",
   "metadata": {},
   "outputs": [],
   "source": [
    "df['month'] = df.datetime.dt.month"
   ]
  },
  {
   "cell_type": "code",
   "execution_count": 93,
   "id": "53a2e6de",
   "metadata": {},
   "outputs": [
    {
     "data": {
      "text/plain": [
       "month\n",
       "1     65.829067\n",
       "2     55.264291\n",
       "3     49.666820\n",
       "4     43.625814\n",
       "5     39.816285\n",
       "6     35.817151\n",
       "7     31.884161\n",
       "8     31.928300\n",
       "9     36.324103\n",
       "10    51.514817\n",
       "11    60.017498\n",
       "12    64.614865\n",
       "Name: PM2.5, dtype: float64"
      ]
     },
     "execution_count": 93,
     "metadata": {},
     "output_type": "execute_result"
    }
   ],
   "source": [
    "# average pollution monthwise\n",
    "\n",
    "month_avg = df.groupby('month')['PM2.5'].mean()\n",
    "month_avg"
   ]
  },
  {
   "cell_type": "code",
   "execution_count": 94,
   "id": "2fff0e5e",
   "metadata": {},
   "outputs": [
    {
     "data": {
      "text/plain": [
       "<AxesSubplot:xlabel='month'>"
      ]
     },
     "execution_count": 94,
     "metadata": {},
     "output_type": "execute_result"
    },
    {
     "data": {
      "image/png": "[encoded data removed]",
      "text/plain": [
       "<Figure size 720x360 with 1 Axes>"
      ]
     },
     "metadata": {
      "needs_background": "light"
     },
     "output_type": "display_data"
    }
   ],
   "source": [
    "month_avg.plot(kind = 'bar',figsize = (10,5),color = 'green')"
   ]
  },
  {
   "cell_type": "code",
   "execution_count": 95,
   "id": "47e88d86",
   "metadata": {},
   "outputs": [
    {
     "data": {
      "text/plain": [
       "<AxesSubplot:xlabel='month'>"
      ]
     },
     "execution_count": 95,
     "metadata": {},
     "output_type": "execute_result"
    },
    {
     "data": {
      "image/png": "[encoded data removed]",
      "text/plain": [
       "<Figure size 720x360 with 1 Axes>"
      ]
     },
     "metadata": {
      "needs_background": "light"
     },
     "output_type": "display_data"
    }
   ],
   "source": [
    "month_avg.plot(kind = 'area',figsize = (10,5),color = 'yellow')"
   ]
  },
  {
   "cell_type": "markdown",
   "id": "54d77c7a",
   "metadata": {},
   "source": [
    "## OBSERVATION\n",
    "\n",
    "**AIR POLLUTION decreased slowly till august and started to increase again from september"
   ]
  },
  {
   "cell_type": "markdown",
   "id": "3607836a",
   "metadata": {},
   "source": [
    "## Question \n",
    " \n",
    "3.) Draw a bar graph to show the hour-wise avg pollution"
   ]
  },
  {
   "cell_type": "code",
   "execution_count": 96,
   "id": "965dde07",
   "metadata": {},
   "outputs": [
    {
     "data": {
      "text/html": [
       "<div>\n",
       "<style scoped>\n",
       "    .dataframe tbody tr th:only-of-type {\n",
       "        vertical-align: middle;\n",
       "    }\n",
       "\n",
       "    .dataframe tbody tr th {\n",
       "        vertical-align: top;\n",
       "    }\n",
       "\n",
       "    .dataframe thead th {\n",
       "        text-align: right;\n",
       "    }\n",
       "</style>\n",
       "<table border=\"1\" class=\"dataframe\">\n",
       "  <thead>\n",
       "    <tr style=\"text-align: right;\">\n",
       "      <th></th>\n",
       "      <th>datetime</th>\n",
       "      <th>PM2.5</th>\n",
       "      <th>year</th>\n",
       "      <th>month</th>\n",
       "      <th>hours</th>\n",
       "    </tr>\n",
       "  </thead>\n",
       "  <tbody>\n",
       "    <tr>\n",
       "      <th>0</th>\n",
       "      <td>2018-01-01 00:00:00</td>\n",
       "      <td>90.19</td>\n",
       "      <td>2018</td>\n",
       "      <td>1</td>\n",
       "      <td>0</td>\n",
       "    </tr>\n",
       "    <tr>\n",
       "      <th>1</th>\n",
       "      <td>2018-01-01 01:00:00</td>\n",
       "      <td>86.98</td>\n",
       "      <td>2018</td>\n",
       "      <td>1</td>\n",
       "      <td>1</td>\n",
       "    </tr>\n",
       "    <tr>\n",
       "      <th>2</th>\n",
       "      <td>2018-01-01 02:00:00</td>\n",
       "      <td>86.06</td>\n",
       "      <td>2018</td>\n",
       "      <td>1</td>\n",
       "      <td>2</td>\n",
       "    </tr>\n",
       "    <tr>\n",
       "      <th>3</th>\n",
       "      <td>2018-01-01 03:00:00</td>\n",
       "      <td>94.04</td>\n",
       "      <td>2018</td>\n",
       "      <td>1</td>\n",
       "      <td>3</td>\n",
       "    </tr>\n",
       "    <tr>\n",
       "      <th>4</th>\n",
       "      <td>2018-01-01 04:00:00</td>\n",
       "      <td>108.78</td>\n",
       "      <td>2018</td>\n",
       "      <td>1</td>\n",
       "      <td>4</td>\n",
       "    </tr>\n",
       "    <tr>\n",
       "      <th>...</th>\n",
       "      <td>...</td>\n",
       "      <td>...</td>\n",
       "      <td>...</td>\n",
       "      <td>...</td>\n",
       "      <td>...</td>\n",
       "    </tr>\n",
       "    <tr>\n",
       "      <th>31856</th>\n",
       "      <td>2021-12-31 19:00:00</td>\n",
       "      <td>72.25</td>\n",
       "      <td>2021</td>\n",
       "      <td>12</td>\n",
       "      <td>19</td>\n",
       "    </tr>\n",
       "    <tr>\n",
       "      <th>31857</th>\n",
       "      <td>2021-12-31 20:00:00</td>\n",
       "      <td>71.56</td>\n",
       "      <td>2021</td>\n",
       "      <td>12</td>\n",
       "      <td>20</td>\n",
       "    </tr>\n",
       "    <tr>\n",
       "      <th>31858</th>\n",
       "      <td>2021-12-31 21:00:00</td>\n",
       "      <td>70.27</td>\n",
       "      <td>2021</td>\n",
       "      <td>12</td>\n",
       "      <td>21</td>\n",
       "    </tr>\n",
       "    <tr>\n",
       "      <th>31859</th>\n",
       "      <td>2021-12-31 22:00:00</td>\n",
       "      <td>66.78</td>\n",
       "      <td>2021</td>\n",
       "      <td>12</td>\n",
       "      <td>22</td>\n",
       "    </tr>\n",
       "    <tr>\n",
       "      <th>31860</th>\n",
       "      <td>2021-12-31 23:00:00</td>\n",
       "      <td>61.29</td>\n",
       "      <td>2021</td>\n",
       "      <td>12</td>\n",
       "      <td>23</td>\n",
       "    </tr>\n",
       "  </tbody>\n",
       "</table>\n",
       "<p>31861 rows × 5 columns</p>\n",
       "</div>"
      ],
      "text/plain": [
       "                 datetime   PM2.5  year  month  hours\n",
       "0     2018-01-01 00:00:00   90.19  2018      1      0\n",
       "1     2018-01-01 01:00:00   86.98  2018      1      1\n",
       "2     2018-01-01 02:00:00   86.06  2018      1      2\n",
       "3     2018-01-01 03:00:00   94.04  2018      1      3\n",
       "4     2018-01-01 04:00:00  108.78  2018      1      4\n",
       "...                   ...     ...   ...    ...    ...\n",
       "31856 2021-12-31 19:00:00   72.25  2021     12     19\n",
       "31857 2021-12-31 20:00:00   71.56  2021     12     20\n",
       "31858 2021-12-31 21:00:00   70.27  2021     12     21\n",
       "31859 2021-12-31 22:00:00   66.78  2021     12     22\n",
       "31860 2021-12-31 23:00:00   61.29  2021     12     23\n",
       "\n",
       "[31861 rows x 5 columns]"
      ]
     },
     "execution_count": 96,
     "metadata": {},
     "output_type": "execute_result"
    }
   ],
   "source": [
    "df['hours'] = df.datetime.dt.hour\n",
    "df"
   ]
  },
  {
   "cell_type": "code",
   "execution_count": 97,
   "id": "caf7a76a",
   "metadata": {},
   "outputs": [
    {
     "data": {
      "text/plain": [
       "hours\n",
       "0     47.068769\n",
       "1     46.403946\n",
       "2     46.952281\n",
       "3     49.150798\n",
       "4     51.296204\n",
       "5     51.908798\n",
       "6     49.907545\n",
       "7     47.518554\n",
       "8     44.996127\n",
       "9     42.681736\n",
       "10    40.931766\n",
       "11    39.393820\n",
       "12    38.789992\n",
       "13    39.323346\n",
       "14    42.638162\n",
       "15    47.500464\n",
       "16    51.244844\n",
       "17    53.669757\n",
       "18    54.317363\n",
       "19    54.120371\n",
       "20    52.784130\n",
       "21    51.383525\n",
       "22    49.940615\n",
       "23    48.538064\n",
       "Name: PM2.5, dtype: float64"
      ]
     },
     "execution_count": 97,
     "metadata": {},
     "output_type": "execute_result"
    }
   ],
   "source": [
    "hours_avg = df.groupby('hours')['PM2.5'].mean()\n",
    "hours_avg"
   ]
  },
  {
   "cell_type": "code",
   "execution_count": 98,
   "id": "37d8827a",
   "metadata": {},
   "outputs": [
    {
     "data": {
      "text/plain": [
       "<AxesSubplot:xlabel='hours'>"
      ]
     },
     "execution_count": 98,
     "metadata": {},
     "output_type": "execute_result"
    },
    {
     "data": {
      "image/png": "[encoded data removed]",
      "text/plain": [
       "<Figure size 432x288 with 1 Axes>"
      ]
     },
     "metadata": {
      "needs_background": "light"
     },
     "output_type": "display_data"
    }
   ],
   "source": [
    "hours_avg.plot(kind = 'bar')"
   ]
  },
  {
   "cell_type": "markdown",
   "id": "3ca772aa",
   "metadata": {},
   "source": [
    "## Question \n",
    " \n",
    "4.) Usually during which months the air was recorded very unhealthy ?"
   ]
  },
  {
   "cell_type": "code",
   "execution_count": 99,
   "id": "8fe69fd9",
   "metadata": {},
   "outputs": [],
   "source": [
    "# As per AQI above 200 is unhealthy"
   ]
  },
  {
   "cell_type": "code",
   "execution_count": 100,
   "id": "cd9970aa",
   "metadata": {},
   "outputs": [
    {
     "data": {
      "text/plain": [
       "month\n",
       "11    5\n",
       "10    3\n",
       "dtype: int64"
      ]
     },
     "execution_count": 100,
     "metadata": {},
     "output_type": "execute_result"
    }
   ],
   "source": [
    "unhealthy = df[(df['PM2.5'] >= 200) & (df['PM2.5'] <= 250.4)]\n",
    "unhealthy.value_counts('month')"
   ]
  },
  {
   "cell_type": "code",
   "execution_count": 101,
   "id": "1b685a2a",
   "metadata": {},
   "outputs": [],
   "source": [
    "# answer : the air was unhealthy in the month of OCTOBER & NOVEMBER"
   ]
  },
  {
   "cell_type": "markdown",
   "id": "2e8d9864",
   "metadata": {},
   "source": [
    "## Question 5\n",
    "\n",
    "which month has the best air quality"
   ]
  },
  {
   "cell_type": "code",
   "execution_count": 102,
   "id": "fa9675a0",
   "metadata": {},
   "outputs": [],
   "source": [
    "# the air was fresh if pm 2.5 is beLOW 50\n",
    "# to find the best reduce the value from 50 to (20,10,8,2,1)"
   ]
  },
  {
   "cell_type": "code",
   "execution_count": 103,
   "id": "a99e5099",
   "metadata": {},
   "outputs": [
    {
     "data": {
      "text/plain": [
       "month\n",
       "7    3\n",
       "dtype: int64"
      ]
     },
     "execution_count": 103,
     "metadata": {},
     "output_type": "execute_result"
    }
   ],
   "source": [
    "fresh = df[df['PM2.5'] <= 8.0]\n",
    "fresh.value_counts('month')"
   ]
  },
  {
   "cell_type": "code",
   "execution_count": 104,
   "id": "22c17887",
   "metadata": {},
   "outputs": [],
   "source": [
    "# answer = july month has the best air quality "
   ]
  },
  {
   "cell_type": "markdown",
   "id": "7dc08217",
   "metadata": {},
   "source": [
    "question 6\n",
    "\n",
    "in year 2018, how many times the Air Quality Index was recorded moderate"
   ]
  },
  {
   "cell_type": "markdown",
   "id": "6afc5301",
   "metadata": {},
   "source": [
    "#moderate range (50.0 - 100.0)"
   ]
  },
  {
   "cell_type": "code",
   "execution_count": 105,
   "id": "83305d19",
   "metadata": {},
   "outputs": [
    {
     "data": {
      "text/plain": [
       "array([2018], dtype=int64)"
      ]
     },
     "execution_count": 105,
     "metadata": {},
     "output_type": "execute_result"
    }
   ],
   "source": [
    "moderate = df[(df['year'] == 2018) & (df['PM2.5'] >= 50.0) & (df['PM2.5'] <= 100.0)]\n",
    "moderate.year.unique()"
   ]
  },
  {
   "cell_type": "code",
   "execution_count": 106,
   "id": "783fa854",
   "metadata": {},
   "outputs": [
    {
     "data": {
      "text/plain": [
       "3354"
      ]
     },
     "execution_count": 106,
     "metadata": {},
     "output_type": "execute_result"
    }
   ],
   "source": [
    "moderate['PM2.5'].value_counts().sum()"
   ]
  },
  {
   "cell_type": "code",
   "execution_count": 107,
   "id": "c94fb354",
   "metadata": {},
   "outputs": [],
   "source": [
    "# answer = 3354 times the aqi was recorded as moderate"
   ]
  },
  {
   "cell_type": "markdown",
   "id": "442956f6",
   "metadata": {},
   "source": [
    "## Question 7\n",
    "\n",
    "#how was the weather in the month of january and july"
   ]
  },
  {
   "cell_type": "code",
   "execution_count": 108,
   "id": "9d56bc52",
   "metadata": {},
   "outputs": [
    {
     "data": {
      "text/plain": [
       "65.82906685236769"
      ]
     },
     "execution_count": 108,
     "metadata": {},
     "output_type": "execute_result"
    }
   ],
   "source": [
    "# records of january -----represeted as 1  in table\n",
    "df[df['month'] == 1]\n",
    "\n",
    "# to check the weather condition inthe month of january let take the mean of pm2.5 column\n",
    "df[df['month'] == 1]['PM2.5'].mean()"
   ]
  },
  {
   "cell_type": "code",
   "execution_count": 109,
   "id": "0dd7b52e",
   "metadata": {},
   "outputs": [
    {
     "data": {
      "text/plain": [
       "31.88416146645866"
      ]
     },
     "execution_count": 109,
     "metadata": {},
     "output_type": "execute_result"
    }
   ],
   "source": [
    "# for the month of july\n",
    "df[df['month'] == 7]['PM2.5'].mean()"
   ]
  },
  {
   "cell_type": "code",
   "execution_count": 110,
   "id": "0ada252f",
   "metadata": {},
   "outputs": [
    {
     "data": {
      "text/plain": [
       "'\\nanswers\\njanuary = 65.82-----> MODERATE\\njuly    = 31.88-----> GOOD\\n'"
      ]
     },
     "execution_count": 110,
     "metadata": {},
     "output_type": "execute_result"
    }
   ],
   "source": [
    "# we can refer the moderate,good,bad air quality using aqi table avilable in google\n",
    "'''\n",
    "answers\n",
    "january = 65.82-----> MODERATE\n",
    "july    = 31.88-----> GOOD\n",
    "'''"
   ]
  },
  {
   "cell_type": "code",
   "execution_count": null,
   "id": "94837f38",
   "metadata": {},
   "outputs": [],
   "source": []
  }
 ],
 "metadata": {
  "kernelspec": {
   "display_name": "Python 3 (ipykernel)",
   "language": "python",
   "name": "python3"
  },
  "language_info": {
   "codemirror_mode": {
    "name": "ipython",
    "version": 3
   },
   "file_extension": ".py",
   "mimetype": "text/x-python",
   "name": "python",
   "nbconvert_exporter": "python",
   "pygments_lexer": "ipython3",
   "version": "3.10.4"
  }
 },
 "nbformat": 4,
 "nbformat_minor": 5
}
